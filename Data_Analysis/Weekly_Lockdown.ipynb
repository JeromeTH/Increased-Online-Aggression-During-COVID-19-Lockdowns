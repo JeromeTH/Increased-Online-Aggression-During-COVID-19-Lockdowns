{
 "cells": [
  {
   "cell_type": "code",
   "execution_count": 18,
   "metadata": {},
   "outputs": [
    {
     "name": "stdout",
     "output_type": "stream",
     "text": [
      "--------------------------------------------------\n",
      "using cuda:0\n"
     ]
    }
   ],
   "source": [
    "MODEL_PATH = \"/home/jerometh/Models_on_datasets/Models/Anger_Go_Revised.pth\"\n",
    "SOURCE = \"Hate_2019_cleaned\"\n",
    "EMOTION = 'Hate'\n",
    "MAX_LEN = 100\n",
    "PRE_TRAINED_MODEL_NAME = 'bert-base-uncased'\n",
    "BATCH_SIZE = 16\n",
    "class_names = ['not_' + EMOTION, EMOTION]\n",
    "FILE_DIR = \"/home/jerometh/Tweet_Analysis/Hate_2019_Results_cleaned\"\n",
    "\n",
    "\n",
    "import transformers\n",
    "from transformers import BertModel, BertForSequenceClassification, BertTokenizer, AdamW, get_linear_schedule_with_warmup\n",
    "import torch\n",
    "import pickle \n",
    "import numpy as np\n",
    "import pandas as pd\n",
    "import seaborn as sns\n",
    "from pylab import rcParams\n",
    "import matplotlib.pyplot as plt\n",
    "from matplotlib import rc\n",
    "from sklearn.model_selection import train_test_split\n",
    "from sklearn.metrics import confusion_matrix, classification_report\n",
    "from collections import defaultdict\n",
    "from textwrap import wrap\n",
    "from torch import nn, optim\n",
    "from torch.utils.data import Dataset, DataLoader\n",
    "import torch.nn.functional as F\n",
    "import wandb\n",
    "import json \n",
    "import csv\n",
    "import time\n",
    "import os\n",
    "import Model as md\n",
    "import times as tm\n",
    "import lockdown_check as lc\n",
    "\n",
    "\n",
    "device = torch.device(\"cuda:0\" if torch.cuda.is_available() else \"cpu\")\n",
    "#device = torch.device(\"cpu\")\n",
    "print(\"-\" * 50)\n",
    "print(f'using {device}')\n",
    "\n",
    "#model = md.SentimentClassifier(len(class_names))\n",
    "#md.load_checkpoint(model, torch.load(MODEL_PATH))\n",
    "#model = model.to(device)"
   ]
  },
  {
   "cell_type": "code",
   "execution_count": 20,
   "metadata": {},
   "outputs": [],
   "source": [
    "lockdown = pd.read_json(\"timeline3.json\")\n",
    "not_lockdown = pd.read_json(\"timeline3.json\")"
   ]
  },
  {
   "cell_type": "code",
   "execution_count": 21,
   "metadata": {},
   "outputs": [
    {
     "name": "stdout",
     "output_type": "stream",
     "text": [
      "index                          0\n",
      "month                         12\n",
      "start_date            2018-12-30\n",
      "end_date              2019-01-05\n",
      "count                          0\n",
      "total                          0\n",
      "percentage                 1e-07\n",
      "days_from_lockdown             0\n",
      "Name: 0, dtype: object\n"
     ]
    }
   ],
   "source": [
    "print(lockdown.iloc[0])"
   ]
  },
  {
   "cell_type": "code",
   "execution_count": 22,
   "metadata": {},
   "outputs": [
    {
     "data": {
      "text/plain": [
       "'1.8.1'"
      ]
     },
     "execution_count": 22,
     "metadata": {},
     "output_type": "execute_result"
    }
   ],
   "source": [
    "import torch\n",
    "torch.__version__"
   ]
  },
  {
   "cell_type": "code",
   "execution_count": 23,
   "metadata": {},
   "outputs": [
    {
     "name": "stdout",
     "output_type": "stream",
     "text": [
      "0\n",
      "1\n",
      "2\n",
      "3\n",
      "4\n",
      "5\n",
      "6\n",
      "7\n",
      "8\n",
      "9\n",
      "10\n",
      "11\n",
      "12\n",
      "13\n",
      "14\n",
      "15\n",
      "16\n",
      "17\n",
      "18\n",
      "19\n",
      "20\n",
      "21\n",
      "22\n",
      "23\n",
      "24\n",
      "25\n",
      "26\n",
      "27\n",
      "28\n",
      "29\n",
      "30\n",
      "31\n",
      "32\n",
      "33\n",
      "34\n",
      "35\n",
      "36\n",
      "37\n",
      "38\n",
      "39\n",
      "40\n",
      "41\n",
      "42\n",
      "43\n",
      "44\n",
      "45\n",
      "46\n",
      "47\n",
      "48\n",
      "49\n",
      "50\n",
      "51\n",
      "52\n",
      "53\n",
      "54\n",
      "55\n",
      "56\n",
      "57\n",
      "58\n",
      "59\n",
      "60\n",
      "61\n",
      "62\n",
      "63\n",
      "64\n",
      "65\n",
      "66\n",
      "67\n",
      "68\n",
      "69\n",
      "70\n",
      "71\n",
      "72\n",
      "73\n",
      "74\n",
      "75\n",
      "76\n",
      "77\n",
      "78\n",
      "79\n",
      "80\n",
      "81\n",
      "82\n",
      "83\n",
      "84\n",
      "85\n",
      "86\n",
      "87\n",
      "88\n",
      "89\n",
      "90\n",
      "91\n",
      "92\n"
     ]
    }
   ],
   "source": [
    "for week in range(len(lockdown)):\n",
    "    print(week)\n",
    "    start_date = tm.get_date(lockdown.iloc[week]['start_date'])\n",
    "    end_date = tm.get_date(lockdown.iloc[week]['end_date'])\n",
    "    for filename in os.listdir(FILE_DIR):\n",
    "        #print(filename)\n",
    "        state = filename[:-5]\n",
    "        #print(state)\n",
    "        \n",
    "        try: cur = pd.read_json(f\"{FILE_DIR}/{filename}\")\n",
    "        except: continue\n",
    "        \n",
    "        \n",
    "        try: status = lc.is_under_lockdown(state, start_date)\n",
    "        except: continue\n",
    "        \n",
    "        #if lc.no_data(state): continue\n",
    "            \n",
    "        if lc.is_under_lockdown(state, start_date):\n",
    "            lockdown.at[week, 'count'] += cur.iloc[week]['count']\n",
    "            lockdown.at[week, 'total'] += cur.iloc[week]['total']\n",
    "        else:\n",
    "            not_lockdown.at[week, 'count'] += cur.iloc[week]['count']\n",
    "            not_lockdown.at[week, 'total'] += cur.iloc[week]['total']\n",
    "            \n",
    "        "
   ]
  },
  {
   "cell_type": "code",
   "execution_count": 5,
   "metadata": {},
   "outputs": [
    {
     "name": "stdout",
     "output_type": "stream",
     "text": [
      "<class 'pandas.core.frame.DataFrame'>\n"
     ]
    }
   ],
   "source": []
  },
  {
   "cell_type": "code",
   "execution_count": 24,
   "metadata": {},
   "outputs": [],
   "source": [
    "def get_percentage(data):\n",
    "    ma = 0\n",
    "    for i in range(len(data)):\n",
    "\n",
    "        if data['total'][i] == 0:\n",
    "            continue\n",
    "        else:\n",
    "            data.at[i, 'percentage'] = data['count'][i]*100.00/data['total'][i]\n",
    "\n",
    "        ma = max(ma, data['percentage'][i])\n",
    "        \n",
    "get_percentage(lockdown)\n",
    "get_percentage(not_lockdown)"
   ]
  },
  {
   "cell_type": "code",
   "execution_count": 25,
   "metadata": {},
   "outputs": [],
   "source": [
    "def plot_line(data, color, label, l, r):\n",
    "    plt.plot(data['index'][l:r], data['percentage'][l:r], color = color, label = label)"
   ]
  },
  {
   "cell_type": "code",
   "execution_count": 26,
   "metadata": {},
   "outputs": [],
   "source": [
    "def plot_and_save(save_to):\n",
    "    \n",
    "    with open(f'/home/jerometh/Tweet_Analysis/Total_Results/{save_to}_lockdown.json', 'w') as outfile:\n",
    "        json.dump(lockdown.to_dict('records'), outfile)\n",
    "    \n",
    "    with open(f'/home/jerometh/Tweet_Analysis/Total_Results/{save_to}_not_lockdown.json', 'w') as outfile:\n",
    "        json.dump(not_lockdown.to_dict('records'), outfile)\n",
    "        \n",
    "    fig = plt.figure()\n",
    "    plot_line(not_lockdown, 'y', 'before_lockdown', 1, 65)\n",
    "    plot_line(lockdown, 'r', 'lockdown', 65, 91)\n",
    "    plot_line(not_lockdown, 'b', 'not_under_lockdown', 64, 91)\n",
    "    plt.legend()\n",
    "    plt.title(f'{EMOTION} Tweet Percentage in USA in Weeks from January 2019')\n",
    "    plt.ylabel(f'{EMOTION} Tweet Percentage')\n",
    "    plt.xlabel('Weeks from 2019/1/1')\n",
    "    plt.xlim(1, 91)\n",
    "    plt.ylim(0, )\n",
    "    plt.savefig(f'/home/jerometh/Tweet_Analysis/Images_for_Paper/{save_to}.jpg', dpi = 200)\n",
    "    plt.show()\n",
    "    plt.clf()\n",
    "    "
   ]
  },
  {
   "cell_type": "code",
   "execution_count": 27,
   "metadata": {},
   "outputs": [
    {
     "data": {
      "image/png": "[encoded data removed]",
      "text/plain": [
       "<Figure size 432x288 with 1 Axes>"
      ]
     },
     "metadata": {
      "needs_background": "light"
     },
     "output_type": "display_data"
    },
    {
     "data": {
      "text/plain": [
       "<Figure size 432x288 with 0 Axes>"
      ]
     },
     "metadata": {},
     "output_type": "display_data"
    }
   ],
   "source": [
    "plot_and_save(f\"{EMOTION}_2019_cleaned\")"
   ]
  },
  {
   "cell_type": "code",
   "execution_count": 28,
   "metadata": {},
   "outputs": [
    {
     "name": "stdout",
     "output_type": "stream",
     "text": [
      "<class 'datetime.timedelta'>\n",
      "1095\n"
     ]
    }
   ],
   "source": [
    "import datetime\n",
    "from datetime import timedelta\n"
   ]
  },
  {
   "cell_type": "code",
   "execution_count": 29,
   "metadata": {},
   "outputs": [],
   "source": [
    "def format_func(value, tick):\n",
    "    x = datetime.datetime(2020, 4, 1)\n",
    "    y = datetime.datetime(2019, 1, 1)\n",
    "    res = int(value - ((x - y).days)/7)\n",
    "    return f'{res}'"
   ]
  },
  {
   "cell_type": "code",
   "execution_count": 30,
   "metadata": {},
   "outputs": [],
   "source": [
    "def plot_line(ax, data, color, label, l, r):\n",
    "    ax.plot(data['index'][l:r], data['percentage'][l:r], color = color, label = label, linewidth = 3)"
   ]
  },
  {
   "cell_type": "code",
   "execution_count": 31,
   "metadata": {},
   "outputs": [],
   "source": [
    "def plot_and_save(save_to):\n",
    "    fig, ax = plt.subplots()\n",
    "    plot_line(ax, lockdown, 'r', 'Under Lockdown', 65, 91)\n",
    "    plot_line(ax, not_lockdown, 'b', 'Not Under Lockdown', 65, 91)\n",
    "    ax.set_title(f'{EMOTION} Tweet Percentage from 2020/4/1', )\n",
    "    plt.xlabel('Weeks from 2020/4/1')\n",
    "    plt.ylabel(f'{EMOTION} Tweet Percentage')\n",
    "    plt.legend()\n",
    "    plt.ylim(0, )\n",
    "    plt.xlim(65, 90)\n",
    "    ax.xaxis.set_major_formatter(plt.FuncFormatter(format_func))\n",
    "    plt.savefig(f'/home/jerometh/Tweet_Analysis/Images_for_Paper/{save_to}.jpg', dpi = 200)\n",
    "    plt.show()\n",
    "    plt.clf()"
   ]
  },
  {
   "cell_type": "code",
   "execution_count": 32,
   "metadata": {},
   "outputs": [
    {
     "data": {
      "image/png": "[encoded data removed]",
      "text/plain": [
       "<Figure size 432x288 with 1 Axes>"
      ]
     },
     "metadata": {
      "needs_background": "light"
     },
     "output_type": "display_data"
    },
    {
     "data": {
      "text/plain": [
       "<Figure size 432x288 with 0 Axes>"
      ]
     },
     "metadata": {},
     "output_type": "display_data"
    }
   ],
   "source": [
    "plot_and_save(f\"{EMOTION}_2020_cleaned\")"
   ]
  }
 ],
 "metadata": {
  "kernelspec": {
   "display_name": "Python 3",
   "language": "python",
   "name": "python3"
  },
  "language_info": {
   "codemirror_mode": {
    "name": "ipython",
    "version": 3
   },
   "file_extension": ".py",
   "mimetype": "text/x-python",
   "name": "python",
   "nbconvert_exporter": "python",
   "pygments_lexer": "ipython3",
   "version": "3.8.5"
  }
 },
 "nbformat": 4,
 "nbformat_minor": 4
}
